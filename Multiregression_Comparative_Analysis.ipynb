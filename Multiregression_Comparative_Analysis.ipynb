{
  "nbformat": 4,
  "nbformat_minor": 0,
  "metadata": {
    "colab": {
      "name": "Multiregression_Comparative_Analysis.ipynb",
      "provenance": [],
      "collapsed_sections": []
    },
    "kernelspec": {
      "name": "python3",
      "display_name": "Python 3"
    }
  },
  "cells": [
    {
      "cell_type": "code",
      "metadata": {
        "id": "0u7YlvtZJ8bd",
        "colab": {
          "base_uri": "https://localhost:8080/",
          "height": 70
        },
        "outputId": "79a2f693-d39a-4802-d894-03d0bf70cdd2"
      },
      "source": [
        "import pandas as pd\n",
        "import numpy as np\n",
        "import matplotlib.pyplot as plt\n",
        "%matplotlib inline\n",
        "import seaborn as sns\n",
        "from sklearn import linear_model\n",
        "from sklearn import metrics\n",
        "from sklearn.model_selection import train_test_split"
      ],
      "execution_count": null,
      "outputs": [
        {
          "output_type": "stream",
          "text": [
            "/usr/local/lib/python3.6/dist-packages/statsmodels/tools/_testing.py:19: FutureWarning: pandas.util.testing is deprecated. Use the functions in the public API at pandas.testing instead.\n",
            "  import pandas.util.testing as tm\n"
          ],
          "name": "stderr"
        }
      ]
    },
    {
      "cell_type": "code",
      "metadata": {
        "id": "TndEUSS4KA-G",
        "colab": {
          "base_uri": "https://localhost:8080/",
          "height": 364
        },
        "outputId": "cd3fd7ec-d14b-44e5-a69b-8024d0bd5e4c"
      },
      "source": [
        "data = pd.read_csv(\"aqi_values.csv\")\n",
        "data.head()"
      ],
      "execution_count": null,
      "outputs": [
        {
          "output_type": "execute_result",
          "data": {
            "text/html": [
              "<div>\n",
              "<style scoped>\n",
              "    .dataframe tbody tr th:only-of-type {\n",
              "        vertical-align: middle;\n",
              "    }\n",
              "\n",
              "    .dataframe tbody tr th {\n",
              "        vertical-align: top;\n",
              "    }\n",
              "\n",
              "    .dataframe thead th {\n",
              "        text-align: right;\n",
              "    }\n",
              "</style>\n",
              "<table border=\"1\" class=\"dataframe\">\n",
              "  <thead>\n",
              "    <tr style=\"text-align: right;\">\n",
              "      <th></th>\n",
              "      <th>Name</th>\n",
              "      <th>GPS</th>\n",
              "      <th>DateTime</th>\n",
              "      <th>AQI_CO</th>\n",
              "      <th>AQI_NO2</th>\n",
              "      <th>AQI_O3_1hr</th>\n",
              "      <th>AQI_O3_4hr</th>\n",
              "      <th>AQI_PM10</th>\n",
              "      <th>AQI_PM2.5</th>\n",
              "      <th>AQI_SITE</th>\n",
              "      <th>Date</th>\n",
              "      <th>Time</th>\n",
              "    </tr>\n",
              "  </thead>\n",
              "  <tbody>\n",
              "    <tr>\n",
              "      <th>0</th>\n",
              "      <td>Monash</td>\n",
              "      <td>(-35.418302, 149.094018)</td>\n",
              "      <td>07-04-2020 18:00</td>\n",
              "      <td>0.0</td>\n",
              "      <td>0.0</td>\n",
              "      <td>24.0</td>\n",
              "      <td>34.0</td>\n",
              "      <td>12.0</td>\n",
              "      <td>14.0</td>\n",
              "      <td>34.0</td>\n",
              "      <td>07-Apr-20</td>\n",
              "      <td>18:00:00</td>\n",
              "    </tr>\n",
              "    <tr>\n",
              "      <th>1</th>\n",
              "      <td>Civic</td>\n",
              "      <td>(-35.285307, 149.131579)</td>\n",
              "      <td>07-04-2020 18:00</td>\n",
              "      <td>0.0</td>\n",
              "      <td>0.0</td>\n",
              "      <td>13.0</td>\n",
              "      <td>24.0</td>\n",
              "      <td>15.0</td>\n",
              "      <td>17.0</td>\n",
              "      <td>24.0</td>\n",
              "      <td>07-Apr-20</td>\n",
              "      <td>18:00:00</td>\n",
              "    </tr>\n",
              "    <tr>\n",
              "      <th>2</th>\n",
              "      <td>Florey</td>\n",
              "      <td>(-35.220606, 149.043539)</td>\n",
              "      <td>07-04-2020 18:00</td>\n",
              "      <td>0.0</td>\n",
              "      <td>5.0</td>\n",
              "      <td>20.0</td>\n",
              "      <td>32.0</td>\n",
              "      <td>16.0</td>\n",
              "      <td>25.0</td>\n",
              "      <td>32.0</td>\n",
              "      <td>07-Apr-20</td>\n",
              "      <td>18:00:00</td>\n",
              "    </tr>\n",
              "    <tr>\n",
              "      <th>3</th>\n",
              "      <td>Civic</td>\n",
              "      <td>(-35.285307, 149.131579)</td>\n",
              "      <td>07-04-2020 20:00</td>\n",
              "      <td>0.0</td>\n",
              "      <td>0.0</td>\n",
              "      <td>7.0</td>\n",
              "      <td>16.0</td>\n",
              "      <td>15.0</td>\n",
              "      <td>18.0</td>\n",
              "      <td>18.0</td>\n",
              "      <td>07-Apr-20</td>\n",
              "      <td>20:00:00</td>\n",
              "    </tr>\n",
              "    <tr>\n",
              "      <th>4</th>\n",
              "      <td>Monash</td>\n",
              "      <td>(-35.418302, 149.094018)</td>\n",
              "      <td>07-04-2020 20:00</td>\n",
              "      <td>0.0</td>\n",
              "      <td>15.0</td>\n",
              "      <td>2.0</td>\n",
              "      <td>19.0</td>\n",
              "      <td>13.0</td>\n",
              "      <td>14.0</td>\n",
              "      <td>19.0</td>\n",
              "      <td>07-Apr-20</td>\n",
              "      <td>20:00:00</td>\n",
              "    </tr>\n",
              "  </tbody>\n",
              "</table>\n",
              "</div>"
            ],
            "text/plain": [
              "     Name                       GPS  ...       Date      Time\n",
              "0  Monash  (-35.418302, 149.094018)  ...  07-Apr-20  18:00:00\n",
              "1   Civic  (-35.285307, 149.131579)  ...  07-Apr-20  18:00:00\n",
              "2  Florey  (-35.220606, 149.043539)  ...  07-Apr-20  18:00:00\n",
              "3   Civic  (-35.285307, 149.131579)  ...  07-Apr-20  20:00:00\n",
              "4  Monash  (-35.418302, 149.094018)  ...  07-Apr-20  20:00:00\n",
              "\n",
              "[5 rows x 12 columns]"
            ]
          },
          "metadata": {
            "tags": []
          },
          "execution_count": 2
        }
      ]
    },
    {
      "cell_type": "code",
      "metadata": {
        "id": "4kkWzmIUNC5f"
      },
      "source": [
        "data_new = data[['AQI_NO2', 'AQI_O3_1hr', 'AQI_O3_4hr', 'AQI_CO', 'AQI_PM2.5', 'AQI_PM10', 'AQI_SITE']]\n",
        "data_new = data_new.dropna()"
      ],
      "execution_count": null,
      "outputs": []
    },
    {
      "cell_type": "code",
      "metadata": {
        "id": "SX1B4xUPN_n4"
      },
      "source": [
        "x = data_new[['AQI_NO2', 'AQI_O3_1hr', 'AQI_O3_4hr', 'AQI_CO', 'AQI_PM2.5', 'AQI_PM10']]\n",
        "y = data_new[['AQI_SITE']]"
      ],
      "execution_count": null,
      "outputs": []
    },
    {
      "cell_type": "code",
      "metadata": {
        "id": "MgHxPOvGPYWG",
        "colab": {
          "base_uri": "https://localhost:8080/",
          "height": 33
        },
        "outputId": "d5ac3668-90a8-4d2c-e182-5c978b50c6c4"
      },
      "source": [
        "x_train, x_test, y_train, y_test = train_test_split(x, y, test_size=1/3)\n",
        "print(x_train.shape, x_test.shape, y_train.shape, y_test.shape)"
      ],
      "execution_count": null,
      "outputs": [
        {
          "output_type": "stream",
          "text": [
            "(15076, 6) (7538, 6) (15076, 1) (7538, 1)\n"
          ],
          "name": "stdout"
        }
      ]
    },
    {
      "cell_type": "code",
      "metadata": {
        "id": "0beCfYhnPnWz"
      },
      "source": [
        "ridge = linear_model.Ridge()\n",
        "lasso = linear_model.Lasso()\n",
        "bayes = linear_model.BayesianRidge()\n",
        "huber = linear_model.HuberRegressor()\n",
        "lars = linear_model.Lars()\n",
        "lassolars = linear_model.LassoLars()\n",
        "SGD = linear_model.SGDRegressor()\n",
        "elastic = linear_model.ElasticNet()"
      ],
      "execution_count": null,
      "outputs": []
    },
    {
      "cell_type": "code",
      "metadata": {
        "id": "nLxBTmN4QYfa",
        "colab": {
          "base_uri": "https://localhost:8080/",
          "height": 1000
        },
        "outputId": "4ced8e01-1413-4db5-c8e9-41ded5434b29"
      },
      "source": [
        "models = [ridge, lasso, bayes, huber, lars, lassolars, SGD, elastic]\n",
        "mname = [\"Ridge Regression\", \"Lasso Regression\", \"Bayes REgression\", \"Huber Regression\", \n",
        "         \"Lars Regression\", \"Lasso Lars Regression\", \"SGD Regression\", \"Elastic Regression\"]\n",
        "acc = []\n",
        "mae = []\n",
        "mse = []\n",
        "\n",
        "for model, modelname in zip(models, mname):\n",
        "  print(f\"{modelname} training started\")\n",
        "  print(\"-----------report------------\")\n",
        "  model.fit(x_train, y_train)\n",
        "  print(f\"Accuracy: {model.score(x_test, y_test)}\")\n",
        "  acc.append(model.score(x_test, y_test))\n",
        "  y_pred = model.predict(x_test)\n",
        "  print(f\"Mean Absolute Error : {metrics.mean_absolute_error(y_test,y_pred)}\")\n",
        "  mae.append(metrics.mean_absolute_error(y_test,y_pred))\n",
        "  print(f\"Mean Squared Error : {metrics.mean_squared_error(y_test, y_pred)}\")\n",
        "  mse.append(metrics.mean_squared_error(y_test, y_pred))\n",
        "  print(f\"{modelname} training is completed\")\n",
        "  print(\"-\"*50)\n",
        "  "
      ],
      "execution_count": null,
      "outputs": [
        {
          "output_type": "stream",
          "text": [
            "Ridge Regression training started\n",
            "-----------report------------\n",
            "Accuracy: 0.9977120750225645\n",
            "Mean Absolute Error : 8.254062319055627\n",
            "Mean Squared Error : 153.52250381878054\n",
            "Ridge Regression training is completed\n",
            "--------------------------------------------------\n",
            "Lasso Regression training started\n",
            "-----------report------------\n",
            "Accuracy: 0.9977090960339203\n",
            "Mean Absolute Error : 8.23174485263735\n",
            "Mean Squared Error : 153.72239752159953\n",
            "Lasso Regression training is completed\n",
            "--------------------------------------------------\n",
            "Bayes REgression training started\n",
            "-----------report------------\n",
            "Accuracy: 0.9977120026503737\n",
            "Mean Absolute Error : 8.253449284928879\n",
            "Mean Squared Error : 153.52736007938663\n",
            "Bayes REgression training is completed\n",
            "--------------------------------------------------\n",
            "Huber Regression training started\n",
            "-----------report------------\n"
          ],
          "name": "stdout"
        },
        {
          "output_type": "stream",
          "text": [
            "/usr/local/lib/python3.6/dist-packages/sklearn/utils/validation.py:760: DataConversionWarning: A column-vector y was passed when a 1d array was expected. Please change the shape of y to (n_samples, ), for example using ravel().\n",
            "  y = column_or_1d(y, warn=True)\n",
            "/usr/local/lib/python3.6/dist-packages/sklearn/utils/validation.py:760: DataConversionWarning: A column-vector y was passed when a 1d array was expected. Please change the shape of y to (n_samples, ), for example using ravel().\n",
            "  y = column_or_1d(y, warn=True)\n"
          ],
          "name": "stderr"
        },
        {
          "output_type": "stream",
          "text": [
            "Accuracy: 0.9973376956439703\n",
            "Mean Absolute Error : 7.712214497252108\n",
            "Mean Squared Error : 178.64380812148386\n",
            "Huber Regression training is completed\n",
            "--------------------------------------------------\n",
            "Lars Regression training started\n",
            "-----------report------------\n",
            "Accuracy: 0.9977120751173267\n",
            "Mean Absolute Error : 8.25406313135559\n",
            "Mean Squared Error : 153.52249746012717\n",
            "Lars Regression training is completed\n",
            "--------------------------------------------------\n",
            "Lasso Lars Regression training started\n",
            "-----------report------------\n",
            "Accuracy: 0.8050168814669154\n",
            "Mean Absolute Error : 39.31989070090971\n",
            "Mean Squared Error : 13083.600579048269\n",
            "Lasso Lars Regression training is completed\n",
            "--------------------------------------------------\n",
            "SGD Regression training started\n",
            "-----------report------------\n",
            "Accuracy: -1.8478389260456212e+23\n",
            "Mean Absolute Error : 27792497139634.23\n",
            "Mean Squared Error : 1.2399220314396698e+28\n",
            "SGD Regression training is completed\n",
            "--------------------------------------------------\n",
            "Elastic Regression training started\n",
            "-----------report------------\n",
            "Accuracy: 0.9977099574862288\n",
            "Mean Absolute Error : 8.237185315117879\n",
            "Mean Squared Error : 153.6645930408496\n",
            "Elastic Regression training is completed\n",
            "--------------------------------------------------\n"
          ],
          "name": "stdout"
        },
        {
          "output_type": "stream",
          "text": [
            "/usr/local/lib/python3.6/dist-packages/sklearn/utils/validation.py:760: DataConversionWarning: A column-vector y was passed when a 1d array was expected. Please change the shape of y to (n_samples, ), for example using ravel().\n",
            "  y = column_or_1d(y, warn=True)\n"
          ],
          "name": "stderr"
        }
      ]
    },
    {
      "cell_type": "code",
      "metadata": {
        "id": "3INjzgZ9Q9aW",
        "colab": {
          "base_uri": "https://localhost:8080/",
          "height": 286
        },
        "outputId": "655315e3-5024-4093-d1d2-fd03b4f88096"
      },
      "source": [
        "df = pd.DataFrame()\n",
        "df[\"Algorithm Name\"] = mname\n",
        "df[\"Accuracy\"] = acc\n",
        "df[\"Mean Absolute Error\"] = mae\n",
        "df[\"Mean Squered Error\"]  = mse\n",
        "df.to_csv(\"report.csv\", index=False)\n",
        "df\n"
      ],
      "execution_count": null,
      "outputs": [
        {
          "output_type": "execute_result",
          "data": {
            "text/html": [
              "<div>\n",
              "<style scoped>\n",
              "    .dataframe tbody tr th:only-of-type {\n",
              "        vertical-align: middle;\n",
              "    }\n",
              "\n",
              "    .dataframe tbody tr th {\n",
              "        vertical-align: top;\n",
              "    }\n",
              "\n",
              "    .dataframe thead th {\n",
              "        text-align: right;\n",
              "    }\n",
              "</style>\n",
              "<table border=\"1\" class=\"dataframe\">\n",
              "  <thead>\n",
              "    <tr style=\"text-align: right;\">\n",
              "      <th></th>\n",
              "      <th>Algorithm Name</th>\n",
              "      <th>Accuracy</th>\n",
              "      <th>Mean Absolute Error</th>\n",
              "      <th>Mean Squered Error</th>\n",
              "    </tr>\n",
              "  </thead>\n",
              "  <tbody>\n",
              "    <tr>\n",
              "      <th>0</th>\n",
              "      <td>Ridge Regression</td>\n",
              "      <td>9.977121e-01</td>\n",
              "      <td>8.254062e+00</td>\n",
              "      <td>1.535225e+02</td>\n",
              "    </tr>\n",
              "    <tr>\n",
              "      <th>1</th>\n",
              "      <td>Lasso Regression</td>\n",
              "      <td>9.977091e-01</td>\n",
              "      <td>8.231745e+00</td>\n",
              "      <td>1.537224e+02</td>\n",
              "    </tr>\n",
              "    <tr>\n",
              "      <th>2</th>\n",
              "      <td>Bayes REgression</td>\n",
              "      <td>9.977120e-01</td>\n",
              "      <td>8.253449e+00</td>\n",
              "      <td>1.535274e+02</td>\n",
              "    </tr>\n",
              "    <tr>\n",
              "      <th>3</th>\n",
              "      <td>Huber Regression</td>\n",
              "      <td>9.973377e-01</td>\n",
              "      <td>7.712214e+00</td>\n",
              "      <td>1.786438e+02</td>\n",
              "    </tr>\n",
              "    <tr>\n",
              "      <th>4</th>\n",
              "      <td>Lars Regression</td>\n",
              "      <td>9.977121e-01</td>\n",
              "      <td>8.254063e+00</td>\n",
              "      <td>1.535225e+02</td>\n",
              "    </tr>\n",
              "    <tr>\n",
              "      <th>5</th>\n",
              "      <td>Lasso Lars Regression</td>\n",
              "      <td>8.050169e-01</td>\n",
              "      <td>3.931989e+01</td>\n",
              "      <td>1.308360e+04</td>\n",
              "    </tr>\n",
              "    <tr>\n",
              "      <th>6</th>\n",
              "      <td>SGD Regression</td>\n",
              "      <td>-1.847839e+23</td>\n",
              "      <td>2.779250e+13</td>\n",
              "      <td>1.239922e+28</td>\n",
              "    </tr>\n",
              "    <tr>\n",
              "      <th>7</th>\n",
              "      <td>Elastic Regression</td>\n",
              "      <td>9.977100e-01</td>\n",
              "      <td>8.237185e+00</td>\n",
              "      <td>1.536646e+02</td>\n",
              "    </tr>\n",
              "  </tbody>\n",
              "</table>\n",
              "</div>"
            ],
            "text/plain": [
              "          Algorithm Name      Accuracy  Mean Absolute Error  Mean Squered Error\n",
              "0       Ridge Regression  9.977121e-01         8.254062e+00        1.535225e+02\n",
              "1       Lasso Regression  9.977091e-01         8.231745e+00        1.537224e+02\n",
              "2       Bayes REgression  9.977120e-01         8.253449e+00        1.535274e+02\n",
              "3       Huber Regression  9.973377e-01         7.712214e+00        1.786438e+02\n",
              "4        Lars Regression  9.977121e-01         8.254063e+00        1.535225e+02\n",
              "5  Lasso Lars Regression  8.050169e-01         3.931989e+01        1.308360e+04\n",
              "6         SGD Regression -1.847839e+23         2.779250e+13        1.239922e+28\n",
              "7     Elastic Regression  9.977100e-01         8.237185e+00        1.536646e+02"
            ]
          },
          "metadata": {
            "tags": []
          },
          "execution_count": 11
        }
      ]
    },
    {
      "cell_type": "code",
      "metadata": {
        "id": "VSDod2GrY9ha"
      },
      "source": [
        ""
      ],
      "execution_count": null,
      "outputs": []
    }
  ]
}